{
 "cells": [
  {
   "cell_type": "code",
   "execution_count": 4,
   "metadata": {},
   "outputs": [
    {
     "name": "stdout",
     "output_type": "stream",
     "text": [
      "Result\n",
      "6.4\n",
      "120\n",
      "6.2\n",
      "['Result', '6.4', '120', '6.2']\n",
      "6.4,120.0,6.2\n",
      "\n"
     ]
    }
   ],
   "source": [
    "import cv2\n",
    "import pandas as pd\n",
    "import pytesseract as tess\n",
    "tess.pytesseract.tesseract_cmd=r'C:\\Users\\Harshitha Gowda\\AppData\\Local\\Tesseract-OCR\\tesseract.exe'\n",
    "#pytesseract.pytesseract.tesseract_cmd = r\"C:\\Program Files\\Tesseract-OCR\\tesseract.exe\"\n",
    "\n",
    "image = cv2.imread('Reportdiab.jpg', 0)\n",
    "thresh = 255 - cv2.threshold(image, 0, 255, cv2.THRESH_BINARY_INV + cv2.THRESH_OTSU)[1]\n",
    "\n",
    "x,y,w,h = 330, 274, 190, 400  \n",
    "ROI = thresh[y:y+h,x:x+w]\n",
    "data = tess.image_to_string(ROI, lang='eng',config='--psm 6')\n",
    "print(data)\n",
    "\n",
    "cv2.imshow('thresh', thresh)\n",
    "cv2.imshow('ROI', ROI)\n",
    "cv2.waitKey()\n",
    "def Convert(string): \n",
    "    li = list(string.split(\"\\n\")) \n",
    "    return li \n",
    "  \n",
    "# Driver code     \n",
    "str1 = \"Geeks for Geeks\"\n",
    "final=Convert(data)\n",
    "print(final)\n",
    "df=pd.DataFrame(final)\n",
    "df.to_csv('diabres.csv')\n",
    "dff=pd.read_csv('diabres.csv',header=None,index_col=False)\n",
    "dff\n",
    "dff.columns=['none','Result']\n",
    "dff\n",
    "dff=dff.iloc[1:]\n",
    "dff\n",
    "moddff= dff.drop([dff.columns[0]] ,  axis='columns')\n",
    "moddff=moddff.iloc[1:]\n",
    "moddff.to_csv('diabres.csv',index=False)\n",
    "moddff\n",
    "dd=pd.read_csv('diabres.csv')\n",
    "dd\n",
    "#dd.pivot(index ='Result', columns ='Result') \n",
    "dd=dd.transpose()  \n",
    "dd.to_csv('diabres.csv',index=False)\n",
    "dd=pd.read_csv('diabres.csv')\n",
    "dd\n",
    "file_variable = open('diabres.csv')\n",
    "all_lines_variable = file_variable.readlines()\n",
    "pr=all_lines_variable[2 - 1]\n",
    "print(pr)\n",
    "with open('diabres.csv','w') as ap:\n",
    "    ap.write(pr)\n",
    "    ap.close()"
   ]
  },
  {
   "cell_type": "code",
   "execution_count": null,
   "metadata": {},
   "outputs": [],
   "source": []
  },
  {
   "cell_type": "code",
   "execution_count": null,
   "metadata": {},
   "outputs": [],
   "source": []
  }
 ],
 "metadata": {
  "kernelspec": {
   "display_name": "Python 3",
   "language": "python",
   "name": "python3"
  },
  "language_info": {
   "codemirror_mode": {
    "name": "ipython",
    "version": 3
   },
   "file_extension": ".py",
   "mimetype": "text/x-python",
   "name": "python",
   "nbconvert_exporter": "python",
   "pygments_lexer": "ipython3",
   "version": "3.8.5"
  }
 },
 "nbformat": 4,
 "nbformat_minor": 2
}
