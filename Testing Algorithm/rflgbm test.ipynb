{
 "cells": [
  {
   "cell_type": "code",
   "execution_count": 4,
   "metadata": {},
   "outputs": [],
   "source": [
    "import pickle\n",
    "from tkinter import *\n",
    "import numpy as np\n",
    "import pandas as pd\n",
    "import csv\n",
    "from fuzzywuzzy import fuzz\n",
    "from sklearn import tree\n",
    "from sklearn.naive_bayes import GaussianNB\n",
    "from sklearn.model_selection import train_test_split\n",
    "from sklearn.metrics import accuracy_score\n",
    "from sklearn.metrics import precision_score\n",
    "from sklearn.metrics import recall_score\n",
    "from sklearn.metrics import f1_score\n",
    "from sklearn.metrics import confusion_matrix\n",
    "import matplotlib.pyplot as plt\n",
    "import seaborn as sns\n",
    "import lightgbm as lgb\n",
    "\n",
    "tr_df=pd.read_csv(\"diab.csv\")\n",
    "\n",
    "tr_df[\"output\"] = tr_df[\"output\"].replace(['No_Diabetes','Prediabetis','Type1','Type2'],[0,1,2,3])\n",
    "\n",
    "tr_X=tr_df.iloc[:,:-1]\n",
    "tr_y=tr_df.iloc[:,-1:]\n",
    "\n",
    "tr_Xtrain,tr_Xtest,tr_ytrain,tr_ytest = train_test_split(tr_X,tr_y,test_size = 0.2,random_state = 0)\n",
    "\n",
    "d_train = lgb.Dataset(tr_Xtrain, label=tr_ytrain)\n",
    "\n",
    "params = {}\n",
    "params['learning_rate'] = 0.05\n",
    "params['boosting_type'] = 'gbdt'\n",
    "params['objective'] = 'multiclass'\n",
    "params['metric'] = 'multi_logloss'\n",
    "params['num_class'] = 4\n",
    "params['sub_feature'] = 0.5\n",
    "params['num_leaves'] = 200\n",
    "params['min_data'] = 10\n",
    "params['max_depth'] = 20\n",
    "    \n",
    "clf = lgb.train(params, d_train, 500)\n",
    "\n",
    "pickle.dump(clf, open('ml_model.sav','wb'))\n",
    "\n"
   ]
  },
  {
   "cell_type": "code",
   "execution_count": 5,
   "metadata": {},
   "outputs": [],
   "source": [
    "def prediction_model():\n",
    "    tr_pred = clf.predict(tr_Xtest)\n",
    "    accuracy = accuracy_score(tr_ytest, np.argmax(tr_pred, axis = 1))*100\n",
    "    print(\"LightGBM Model accuracy=\",accuracy)\n",
    "\n",
    "    X=pd.read_csv(\"diabres.csv\")\n",
    "    with open('diabres.csv',newline='') as f:\n",
    "        reader = csv.reader(f)\n",
    "        data = list(reader)\n",
    "    \n",
    "    X_new= data\n",
    "    #X_new = [[6.4,120,6.2]]\n",
    "    #X_new = [[29.5,300,28.75]]\n",
    "    Y_new = clf.predict(X_new)\n",
    "\n",
    "    y_new = np.argmax(Y_new, axis = 1)\n",
    "    print(y_new)\n",
    "\n",
    "    if(y_new==0):\n",
    "        print('No_Diabetes')\n",
    "    elif(y_new==1):\n",
    "        print('Prediabetes')\n",
    "    elif(y_new==2):\n",
    "        print('Type1')\n",
    "    else:\n",
    "        print('Type2')\n",
    "    return y_new"
   ]
  },
  {
   "cell_type": "code",
   "execution_count": 6,
   "metadata": {},
   "outputs": [
    {
     "name": "stdout",
     "output_type": "stream",
     "text": [
      "LightGBM Model accuracy= 99.92301770592763\n",
      "[1]\n",
      "Prediabetes\n"
     ]
    },
    {
     "data": {
      "text/plain": [
       "array([1], dtype=int64)"
      ]
     },
     "execution_count": 6,
     "metadata": {},
     "output_type": "execute_result"
    }
   ],
   "source": [
    "prediction_model()"
   ]
  },
  {
   "cell_type": "code",
   "execution_count": null,
   "metadata": {},
   "outputs": [],
   "source": []
  },
  {
   "cell_type": "code",
   "execution_count": null,
   "metadata": {},
   "outputs": [],
   "source": []
  }
 ],
 "metadata": {
  "kernelspec": {
   "display_name": "Python 3",
   "language": "python",
   "name": "python3"
  },
  "language_info": {
   "codemirror_mode": {
    "name": "ipython",
    "version": 3
   },
   "file_extension": ".py",
   "mimetype": "text/x-python",
   "name": "python",
   "nbconvert_exporter": "python",
   "pygments_lexer": "ipython3",
   "version": "3.8.5"
  }
 },
 "nbformat": 4,
 "nbformat_minor": 2
}
